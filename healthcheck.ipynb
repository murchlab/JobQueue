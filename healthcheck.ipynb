{
 "cells": [
  {
   "cell_type": "code",
   "execution_count": 42,
   "metadata": {},
   "outputs": [
    {
     "name": "stdout",
     "output_type": "stream",
     "text": [
      "\n",
      "No job is running.\n"
     ]
    }
   ],
   "source": [
    "import sys\n",
    "sys.path.append(\"C:/Users/crow108/Documents/analyzer\")\n",
    "import paths\n",
    "paths.paths()\n",
    "import time\n",
    "\n",
    "from jobqueue import JobQueue\n",
    "\n",
    "with JobQueue(enter=False) as jq:\n",
    "    with jq.open_jobqueue('r') as jobqueue:\n",
    "        jq.display_jobqueue(jobqueue)\n",
    "\n",
    "# jq = JobQueue('xingrui', reset=False, enter=False)\n",
    "# print(jq.jobqueue.read())\n",
    "# jq.shm.close()\n"
   ]
  },
  {
   "cell_type": "code",
   "execution_count": null,
   "metadata": {},
   "outputs": [],
   "source": []
  },
  {
   "cell_type": "code",
   "execution_count": null,
   "metadata": {},
   "outputs": [],
   "source": []
  }
 ],
 "metadata": {
  "kernelspec": {
   "display_name": "Python 3",
   "language": "python",
   "name": "python3"
  },
  "language_info": {
   "codemirror_mode": {
    "name": "ipython",
    "version": 3
   },
   "file_extension": ".py",
   "mimetype": "text/x-python",
   "name": "python",
   "nbconvert_exporter": "python",
   "pygments_lexer": "ipython3",
   "version": "3.7.4"
  }
 },
 "nbformat": 4,
 "nbformat_minor": 2
}
